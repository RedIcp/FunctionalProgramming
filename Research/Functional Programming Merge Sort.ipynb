{
 "cells": [
  {
   "cell_type": "code",
   "execution_count": 5,
   "id": "55e1fc1c",
   "metadata": {},
   "outputs": [],
   "source": [
    "def merge(list1, list2):\n",
    "    if len(list1) == 0:\n",
    "        return list2\n",
    "    elif len(list2) == 0:\n",
    "        return list1\n",
    "    elif list1[0] < list2[0]:\n",
    "        return [list1[0]] + merge(list1[1:], list2)\n",
    "    else:\n",
    "        return [list2[0]] + merge(list1, list2[1:])"
   ]
  },
  {
   "cell_type": "code",
   "execution_count": 6,
   "id": "cff1b9a1",
   "metadata": {},
   "outputs": [],
   "source": [
    "def mergesort(unSortedList):\n",
    "    if len(unSortedList) < 2:\n",
    "        return unSortedList\n",
    "    else:\n",
    "        midIndex = len(unSortedList) // 2\n",
    "        return merge(mergesort(unSortedList[:midIndex]), mergesort(unSortedList[midIndex:]))"
   ]
  },
  {
   "cell_type": "code",
   "execution_count": 7,
   "id": "9fbad124",
   "metadata": {},
   "outputs": [
    {
     "name": "stdout",
     "output_type": "stream",
     "text": [
      "[2, 3, 6, 7, 8, 9, 15, 40, 52, 76, 78, 100]\n"
     ]
    }
   ],
   "source": [
    "testList = [9, 2, 15, 6, 8, 40, 76, 3, 100, 78, 52, 7]\n",
    "print(mergesort(testList))"
   ]
  }
 ],
 "metadata": {
  "kernelspec": {
   "display_name": "Python 3 (ipykernel)",
   "language": "python",
   "name": "python3"
  },
  "language_info": {
   "codemirror_mode": {
    "name": "ipython",
    "version": 3
   },
   "file_extension": ".py",
   "mimetype": "text/x-python",
   "name": "python",
   "nbconvert_exporter": "python",
   "pygments_lexer": "ipython3",
   "version": "3.10.5"
  }
 },
 "nbformat": 4,
 "nbformat_minor": 5
}
